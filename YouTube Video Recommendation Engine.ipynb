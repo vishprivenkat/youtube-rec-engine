{
 "cells": [
  {
   "cell_type": "code",
   "execution_count": 26,
   "metadata": {},
   "outputs": [
    {
     "output_type": "execute_result",
     "data": {
      "text/plain": "1122"
     },
     "metadata": {},
     "execution_count": 26
    }
   ],
   "source": [
    "import pandas as pd\n",
    "import numpy as np\n",
    "from sklearn.feature_extraction.text import CountVectorizer\n",
    "from sklearn.metrics.pairwise import cosine_similarity\n",
    "import pafy\n",
    "import re\n",
    "dataset = pd.read_csv(\"preprocessed_yt_data.csv\")\n",
    "cv = CountVectorizer()\n",
    "v = len(dataset)\n"
   ]
  },
  {
   "cell_type": "code",
   "execution_count": 31,
   "metadata": {},
   "outputs": [],
   "source": [
    "link = \"https://www.youtube.com/watch?v=YW8jtSOTRAU&list=PLEA1FEF17E1E5C0DA\"\n",
    "video = pafy.new(link)\n",
    "s = ((video.title+\" \"+video.category+\" \"+video.author).lower())\n",
    "s = \" \".join(list(set(re.sub(r'[^\\w\\s]*','', s).split())))"
   ]
  },
  {
   "cell_type": "code",
   "execution_count": 32,
   "metadata": {},
   "outputs": [],
   "source": [
    " dataset = dataset.append({\"link\":link, \"combine_features\":s}, ignore_index=True)"
   ]
  },
  {
   "cell_type": "code",
   "execution_count": 33,
   "metadata": {},
   "outputs": [],
   "source": [
    "count_matrix = cv.fit_transform(dataset[\"combine_features\"])"
   ]
  },
  {
   "cell_type": "code",
   "execution_count": 34,
   "metadata": {},
   "outputs": [],
   "source": [
    "co_similarity = cosine_similarity(count_matrix)"
   ]
  },
  {
   "cell_type": "code",
   "execution_count": 36,
   "metadata": {},
   "outputs": [],
   "source": [
    "similar_video = list(enumerate(co_similarity[v]))"
   ]
  },
  {
   "cell_type": "code",
   "execution_count": 37,
   "metadata": {},
   "outputs": [],
   "source": [
    "sorted_similar_video = sorted(similar_video,key=lambda x:x[1],reverse=True)[1:]"
   ]
  },
  {
   "cell_type": "code",
   "execution_count": 44,
   "metadata": {},
   "outputs": [
    {
     "output_type": "stream",
     "name": "stdout",
     "text": "The top 5 videos similar to Python Programming Tutorial - 2 - Numbers and Math are: \n1 . Python Tutorial for Beginners | Python Programming Language Tutorial | Python Training | Edureka\n2 . How To Utilize Hyphens And Dashes\n3 . LABOR AND DELIVERY | BABY G\n4 . COLORFUL ART IDEAS || DIY`s and Crafts\n5 . #0 Python Tutorial | Python Programming Tutorial for Beginners | Course Introduction\n"
    }
   ],
   "source": [
    "print(\"The top 5 videos similar to \"+video.title+\" are: \")\n",
    "i=1\n",
    "for elt in sorted_similar_video:\n",
    "    index = elt[0]\n",
    "    similar_video_title = pafy.new(dataset[\"link\"][index])\n",
    "    print(i,\". \"+similar_video_title.title)\n",
    "    if i==5:\n",
    "        break\n",
    "    i+=1"
   ]
  },
  {
   "cell_type": "code",
   "execution_count": 41,
   "metadata": {},
   "outputs": [
    {
     "output_type": "execute_result",
     "data": {
      "text/plain": "81"
     },
     "metadata": {},
     "execution_count": 41
    }
   ],
   "source": []
  },
  {
   "cell_type": "code",
   "execution_count": null,
   "metadata": {},
   "outputs": [],
   "source": [
   
   ]
  }
 ],
 "metadata": {
  "kernelspec": {
   "display_name": "Python 3",
   "language": "python",
   "name": "python3"
  },
  "language_info": {
   "codemirror_mode": {
    "name": "ipython",
    "version": 3
   },
   "file_extension": ".py",
   "mimetype": "text/x-python",
   "name": "python",
   "nbconvert_exporter": "python",
   "pygments_lexer": "ipython3",
   "version": "3.7.4-final"
  }
 },
 "nbformat": 4,
 "nbformat_minor": 2
}
